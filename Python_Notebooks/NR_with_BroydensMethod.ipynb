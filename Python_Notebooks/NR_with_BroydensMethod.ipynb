{
 "cells": [
  {
   "cell_type": "code",
   "execution_count": 22,
   "metadata": {},
   "outputs": [],
   "source": [
    "import numpy as np"
   ]
  },
  {
   "cell_type": "code",
   "execution_count": 23,
   "metadata": {},
   "outputs": [],
   "source": [
    "def next_invJ(invJ, F, next_F, x, next_x):\n",
    "    delx = next_x - x\n",
    "    delF = next_F - F\n",
    "    denom = (delx.dot(invJ)).dot(delF)\n",
    "    numer = delx - invJ.dot(delF)\n",
    "    frac = numer/denom\n",
    "    adjustment = frac.dot(delx)*invJ\n",
    "    return invJ - adjustment"
   ]
  },
  {
   "cell_type": "code",
   "execution_count": 24,
   "metadata": {},
   "outputs": [],
   "source": [
    "def first_invJ(J):\n",
    "    if (J.shape[0] != J.shape[1]): #if over determined\n",
    "        return (np.linalg.inv((np.transpose(J)).dot(J))).dot(np.transpose(J))\n",
    "    else:\n",
    "        return np.linalg.inv(J)"
   ]
  },
  {
   "cell_type": "code",
   "execution_count": 25,
   "metadata": {},
   "outputs": [],
   "source": [
    "def F_solve(x):\n",
    "    f0 = (3*x[0]) - (x[1]*x[2])-(1.5)\n",
    "    f1 = 4*x[0]*x[0] - 625*x[1]*x[1] + 2*x[2] - 1\n",
    "    f2 = 20*x[2] + x[1]*x[1] + 9*x[0]\n",
    "    f3 = 56.2*x[1]*x[2] - x[0]\n",
    "    return np.array([f0, f1, f2, f3])\n",
    "    "
   ]
  },
  {
   "cell_type": "code",
   "execution_count": 26,
   "metadata": {},
   "outputs": [],
   "source": [
    "x = np.array([1,1,1])\n",
    "J = np.array([[3, x[2], -1*x[1]], \n",
    "            [8*x[0], -1250*x[1], 2], \n",
    "            [9, 2*x[1], 20],\n",
    "             [-1, 56.2*x[2], 56.2*x[1]]])"
   ]
  },
  {
   "cell_type": "code",
   "execution_count": 27,
   "metadata": {},
   "outputs": [],
   "source": [
    "def BroydensMethod(max_iteration, x, J):\n",
    "    invJ = first_invJ(J)\n",
    "    \n",
    "    for i in range(max_iteration):\n",
    "        print('This is the ' + str(i) + ' iteration.')\n",
    "        print('This X: ' + str(x))\n",
    "        F = F_solve(x)\n",
    "        next_x = x - invJ.dot(F)\n",
    "        next_F = F_solve(next_x)\n",
    "        \n",
    "        # Updating everything\n",
    "        invJ = next_invJ(invJ, F, next_F, x, next_x)\n",
    "        x = next_x\n",
    "        print('next_invJ:')\n",
    "        for i in range(3):\n",
    "            print(str(invJ[i]))\n",
    "        print('next_x: ' +str(x)+ '\\n')\n",
    "        \n",
    "    return x\n",
    "        "
   ]
  },
  {
   "cell_type": "code",
   "execution_count": 28,
   "metadata": {},
   "outputs": [
    {
     "name": "stdout",
     "output_type": "stream",
     "text": [
      "This is the 0 iteration.\n",
      "This X: [1 1 1]\n",
      "next_invJ:\n",
      "[ 0.03857573 -0.00143499  0.10409742 -0.03630788]\n",
      "[ 0.00024876 -0.00086977  0.00066774 -0.00020225]\n",
      "[-0.00183196  0.00083004  0.00192017  0.01842592]\n",
      "next_x: [-0.88198129  0.49115064  0.48100906]\n",
      "\n",
      "This is the 1 iteration.\n",
      "This X: [-0.88198129  0.49115064  0.48100906]\n",
      "next_invJ:\n",
      "[-0.00944318  0.00035128 -0.02548263  0.00888802]\n",
      "[-6.08947932e-05  2.12916529e-04 -1.63459751e-04  4.95100921e-05]\n",
      "[ 0.00044846 -0.00020319 -0.00047005 -0.00451059]\n",
      "next_x: [-0.61102678  0.36535953  0.33098456]\n",
      "\n",
      "This is the 2 iteration.\n",
      "This X: [-0.61102678  0.36535953  0.33098456]\n",
      "next_invJ:\n",
      "[-0.11099003  0.00412874 -0.29950896  0.10446498]\n",
      "[-0.00071572  0.00250251 -0.00192122  0.00058191]\n",
      "[ 0.00527092 -0.00238818 -0.00552471 -0.05301503]\n",
      "next_x: [-0.64862412  0.38250501  0.34981651]\n",
      "\n",
      "This is the 3 iteration.\n",
      "This X: [-0.64862412  0.38250501  0.34981651]\n",
      "next_invJ:\n",
      "[-0.29101407  0.01082549 -0.78530766  0.27390548]\n",
      "[-0.00187662  0.00656153 -0.0050374   0.00152577]\n",
      "[ 0.01382026 -0.00626177 -0.01448569 -0.13900454]\n",
      "next_x: [-1.1365547   0.60307567  0.59386815]\n",
      "\n",
      "This is the 4 iteration.\n",
      "This X: [-1.1365547   0.60307567  0.59386815]\n",
      "next_invJ:\n",
      "[-0.60687931  0.02257542 -1.63767672  0.57120114]\n",
      "[-0.00391349  0.01368338 -0.01050497  0.00318184]\n",
      "[ 0.0288207  -0.01305825 -0.03020838 -0.28987938]\n",
      "next_x: [-4.51111171  2.02726385  2.26182246]\n",
      "\n",
      "This is the 5 iteration.\n",
      "This X: [-4.51111171  2.02726385  2.26182246]\n",
      "next_invJ:\n",
      "[-1.21537228  0.04521086 -3.27970793  1.14392108]\n",
      "[-0.00783738  0.02740314 -0.02103787  0.00637213]\n",
      "[ 0.05771804 -0.02615123 -0.06049709 -0.58052954]\n",
      "next_x: [-95.79530971  35.19347612  46.66666283]\n",
      "\n",
      "This is the 6 iteration.\n",
      "This X: [-95.79530971  35.19347612  46.66666283]\n",
      "next_invJ:\n",
      "[-2.43074719  0.09042182 -6.55942296  2.28784463]\n",
      "[-0.01567478  0.05480634 -0.04207578  0.01274427]\n",
      "[ 0.11543619 -0.05230251 -0.12099431 -1.16106033]\n",
      "next_x: [-70507.13125116  19663.55795584  34594.63553291]\n",
      "\n",
      "This is the 7 iteration.\n",
      "This X: [-70507.13125116  19663.55795584  34594.63553291]\n",
      "next_invJ:\n",
      "[ -4.86149437   0.18084364 -13.11884591   4.57568926]\n",
      "[-0.03134957  0.10961267 -0.08415157  0.02548855]\n",
      "[ 0.23087239 -0.10460503 -0.24198862 -2.32212067]\n",
      "next_x: [-6.65292744e+10  1.16730605e+10  3.29137183e+10]\n",
      "\n",
      "This is the 8 iteration.\n",
      "This X: [-6.65292744e+10  1.16730605e+10  3.29137183e+10]\n",
      "next_invJ:\n",
      "[ -9.72298874   0.36168728 -26.23769182   9.15137853]\n",
      "[-0.06269913  0.21922534 -0.16830314  0.0509771 ]\n",
      "[ 0.46174478 -0.20921006 -0.48397725 -4.64424134]\n",
      "next_x: [-8.66803003e+22  6.84333312e+21  4.32050366e+22]\n",
      "\n",
      "This is the 9 iteration.\n",
      "This X: [-8.66803003e+22  6.84333312e+21  4.32050366e+22]\n",
      "next_invJ:\n",
      "[-19.44597748   0.72337456 -52.47538364  18.30275705]\n",
      "[-0.12539827  0.43845069 -0.33660628  0.1019542 ]\n",
      "[ 0.92348956 -0.41842012 -0.96795449 -9.28848267]\n",
      "next_x: [-1.53993193e+47 -1.02967363e+45  7.74941174e+46]\n",
      "\n",
      "This is the 10 iteration.\n",
      "This X: [-1.53993193e+47 -1.02967363e+45  7.74941174e+46]\n",
      "next_invJ:\n",
      "[ -38.89195497    1.44674912 -104.95076728   36.6055141 ]\n",
      "[-0.25079654  0.87690138 -0.67321256  0.2039084 ]\n",
      "[  1.84697912  -0.83684023  -1.93590898 -18.57696534]\n",
      "next_x: [ 1.55474427e+94 -4.08314064e+94 -2.31372889e+93]\n",
      "\n",
      "This is the 11 iteration.\n",
      "This X: [ 1.55474427e+94 -4.08314064e+94 -2.31372889e+93]\n",
      "next_invJ:\n",
      "[nan nan nan nan]\n",
      "[nan nan nan nan]\n",
      "[nan nan nan nan]\n",
      "next_x: [ 1.48306493e+192  9.12901486e+191 -7.69146294e+191]\n",
      "\n",
      "This is the 12 iteration.\n",
      "This X: [ 1.48306493e+192  9.12901486e+191 -7.69146294e+191]\n",
      "next_invJ:\n",
      "[nan nan nan nan]\n",
      "[nan nan nan nan]\n",
      "[nan nan nan nan]\n",
      "next_x: [nan nan nan]\n",
      "\n",
      "This is the 13 iteration.\n",
      "This X: [nan nan nan]\n",
      "next_invJ:\n",
      "[nan nan nan nan]\n",
      "[nan nan nan nan]\n",
      "[nan nan nan nan]\n",
      "next_x: [nan nan nan]\n",
      "\n",
      "This is the 14 iteration.\n",
      "This X: [nan nan nan]\n",
      "next_invJ:\n",
      "[nan nan nan nan]\n",
      "[nan nan nan nan]\n",
      "[nan nan nan nan]\n",
      "next_x: [nan nan nan]\n",
      "\n"
     ]
    },
    {
     "name": "stderr",
     "output_type": "stream",
     "text": [
      "<ipython-input-25-bd187d82b6ee>:2: RuntimeWarning: overflow encountered in double_scalars\n",
      "  f0 = (3*x[0]) - (x[1]*x[2])-(1.5)\n",
      "<ipython-input-25-bd187d82b6ee>:3: RuntimeWarning: overflow encountered in double_scalars\n",
      "  f1 = 4*x[0]*x[0] - 625*x[1]*x[1] + 2*x[2] - 1\n",
      "<ipython-input-25-bd187d82b6ee>:3: RuntimeWarning: invalid value encountered in double_scalars\n",
      "  f1 = 4*x[0]*x[0] - 625*x[1]*x[1] + 2*x[2] - 1\n",
      "<ipython-input-25-bd187d82b6ee>:4: RuntimeWarning: overflow encountered in double_scalars\n",
      "  f2 = 20*x[2] + x[1]*x[1] + 9*x[0]\n",
      "<ipython-input-25-bd187d82b6ee>:5: RuntimeWarning: overflow encountered in double_scalars\n",
      "  f3 = 56.2*x[1]*x[2] - x[0]\n"
     ]
    },
    {
     "data": {
      "text/plain": [
       "array([nan, nan, nan])"
      ]
     },
     "execution_count": 28,
     "metadata": {},
     "output_type": "execute_result"
    }
   ],
   "source": [
    "BroydensMethod(15,x,J)"
   ]
  },
  {
   "cell_type": "code",
   "execution_count": 19,
   "metadata": {},
   "outputs": [],
   "source": []
  },
  {
   "cell_type": "code",
   "execution_count": null,
   "metadata": {},
   "outputs": [],
   "source": []
  }
 ],
 "metadata": {
  "kernelspec": {
   "display_name": "Python 3",
   "language": "python",
   "name": "python3"
  },
  "language_info": {
   "codemirror_mode": {
    "name": "ipython",
    "version": 3
   },
   "file_extension": ".py",
   "mimetype": "text/x-python",
   "name": "python",
   "nbconvert_exporter": "python",
   "pygments_lexer": "ipython3",
   "version": "3.8.5"
  }
 },
 "nbformat": 4,
 "nbformat_minor": 4
}
