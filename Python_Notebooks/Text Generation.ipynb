{
 "cells": [
  {
   "cell_type": "code",
   "execution_count": 5,
   "metadata": {},
   "outputs": [
    {
     "name": "stdout",
     "output_type": "stream",
     "text": [
      "    adder adder0(sum[0], tracker[0], loaded_ina[0], loaded_inb[0], sel, clk, rst);\n",
      "    adder adder1(sum[1], tracker[1], loaded_ina[1], loaded_inb[1], sel, clk, rst);\n",
      "    adder adder2(sum[2], tracker[2], loaded_ina[2], loaded_inb[2], sel, clk, rst);\n",
      "    adder adder3(sum[3], tracker[3], loaded_ina[3], loaded_inb[3], sel, clk, rst);\n",
      "    adder adder4(sum[4], tracker[4], loaded_ina[4], loaded_inb[4], sel, clk, rst);\n",
      "    adder adder5(sum[5], tracker[5], loaded_ina[5], loaded_inb[5], sel, clk, rst);\n",
      "    adder adder6(sum[6], tracker[6], loaded_ina[6], loaded_inb[6], sel, clk, rst);\n",
      "    adder adder7(sum[7], tracker[7], loaded_ina[7], loaded_inb[7], sel, clk, rst);\n",
      "    adder adder8(sum[8], tracker[8], loaded_ina[8], loaded_inb[8], sel, clk, rst);\n",
      "    adder adder9(sum[9], tracker[9], loaded_ina[9], loaded_inb[9], sel, clk, rst);\n",
      "    adder adder10(sum[10], tracker[10], loaded_ina[10], loaded_inb[10], sel, clk, rst);\n",
      "    adder adder11(sum[11], tracker[11], loaded_ina[11], loaded_inb[11], sel, clk, rst);\n",
      "    adder adder12(sum[12], tracker[12], loaded_ina[12], loaded_inb[12], sel, clk, rst);\n",
      "    adder adder13(sum[13], tracker[13], loaded_ina[13], loaded_inb[13], sel, clk, rst);\n",
      "    adder adder14(sum[14], tracker[14], loaded_ina[14], loaded_inb[14], sel, clk, rst);\n",
      "    adder adder15(sum[15], tracker[15], loaded_ina[15], loaded_inb[15], sel, clk, rst);\n",
      "    adder adder16(sum[16], tracker[16], loaded_ina[16], loaded_inb[16], sel, clk, rst);\n",
      "    adder adder17(sum[17], tracker[17], loaded_ina[17], loaded_inb[17], sel, clk, rst);\n",
      "    adder adder18(sum[18], tracker[18], loaded_ina[18], loaded_inb[18], sel, clk, rst);\n",
      "    adder adder19(sum[19], tracker[19], loaded_ina[19], loaded_inb[19], sel, clk, rst);\n",
      "    adder adder20(sum[20], tracker[20], loaded_ina[20], loaded_inb[20], sel, clk, rst);\n",
      "    adder adder21(sum[21], tracker[21], loaded_ina[21], loaded_inb[21], sel, clk, rst);\n",
      "    adder adder22(sum[22], tracker[22], loaded_ina[22], loaded_inb[22], sel, clk, rst);\n",
      "    adder adder23(sum[23], tracker[23], loaded_ina[23], loaded_inb[23], sel, clk, rst);\n",
      "    adder adder24(sum[24], tracker[24], loaded_ina[24], loaded_inb[24], sel, clk, rst);\n",
      "    adder adder25(sum[25], tracker[25], loaded_ina[25], loaded_inb[25], sel, clk, rst);\n",
      "    adder adder26(sum[26], tracker[26], loaded_ina[26], loaded_inb[26], sel, clk, rst);\n",
      "    adder adder27(sum[27], tracker[27], loaded_ina[27], loaded_inb[27], sel, clk, rst);\n",
      "    adder adder28(sum[28], tracker[28], loaded_ina[28], loaded_inb[28], sel, clk, rst);\n",
      "    adder adder29(sum[29], tracker[29], loaded_ina[29], loaded_inb[29], sel, clk, rst);\n",
      "    adder adder30(sum[30], tracker[30], loaded_ina[30], loaded_inb[30], sel, clk, rst);\n"
     ]
    }
   ],
   "source": [
    "for i in range(31):\n",
    "    print(\"    adder adder\" + str(i) + \"(sum[\"+str(i)+\"], tracker[\"+str(i)+\"], loaded_ina[\"+str(i)+\"], loaded_inb[\"+str(i)+\"], sel, clk, rst);\")"
   ]
  },
  {
   "cell_type": "code",
   "execution_count": 10,
   "metadata": {},
   "outputs": [
    {
     "name": "stdout",
     "output_type": "stream",
     "text": [
      "    reg [31:0] a_row0[0:6];\n",
      "    reg [31:0] a_row1[0:6];\n",
      "    reg [31:0] a_row2[0:6];\n",
      "    reg [31:0] a_row3[0:6];\n",
      "    reg [31:0] a_row4[0:6];\n",
      "    reg [31:0] a_row5[0:6];\n",
      "    reg [31:0] a_row6[0:6];\n"
     ]
    }
   ],
   "source": [
    "for i in range(7):\n",
    "    print(\"    reg [31:0] a_row\" + str(i) +\"[0:6];\")\n",
    "    "
   ]
  },
  {
   "cell_type": "code",
   "execution_count": 12,
   "metadata": {},
   "outputs": [
    {
     "name": "stdout",
     "output_type": "stream",
     "text": [
      "    reg [31:0] b_col0[0:6];\n",
      "    reg [31:0] b_col1[0:6];\n",
      "    reg [31:0] b_col2[0:6];\n",
      "    reg [31:0] b_col3[0:6];\n",
      "    reg [31:0] b_col4[0:6];\n",
      "    reg [31:0] b_col5[0:6];\n",
      "    reg [31:0] b_col6[0:6];\n"
     ]
    }
   ],
   "source": [
    "for i in range(7):\n",
    "    print(\"    reg [31:0] b_col\" + str(i) +\"[0:6];\")"
   ]
  },
  {
   "cell_type": "code",
   "execution_count": 8,
   "metadata": {},
   "outputs": [
    {
     "name": "stdout",
     "output_type": "stream",
     "text": [
      "    output [31:0] invJ0,\n",
      "    output [31:0] invJ1,\n",
      "    output [31:0] invJ2,\n",
      "    output [31:0] invJ3,\n",
      "    output [31:0] invJ4,\n",
      "    output [31:0] invJ5,\n",
      "    output [31:0] invJ6,\n",
      "    output [31:0] invJ7,\n",
      "    output [31:0] invJ8,\n",
      "    output [31:0] invJ9,\n",
      "    output [31:0] invJ10,\n",
      "    output [31:0] invJ11,\n"
     ]
    }
   ],
   "source": [
    "for i in range(12):\n",
    "    print(\"    output [31:0] invJ\" + str(i) + \",\")"
   ]
  },
  {
   "cell_type": "code",
   "execution_count": 15,
   "metadata": {},
   "outputs": [
    {
     "name": "stdout",
     "output_type": "stream",
     "text": [
      "    input [31:0] invJ0,\n",
      "    input [31:0] invJ1,\n",
      "    input [31:0] invJ2,\n",
      "    input [31:0] invJ3,\n",
      "    input [31:0] invJ4,\n",
      "    input [31:0] invJ5,\n",
      "    input [31:0] invJ6,\n",
      "    input [31:0] invJ7,\n",
      "    input [31:0] invJ8,\n",
      "    input [31:0] invJ9,\n",
      "    input [31:0] invJ10,\n",
      "    input [31:0] invJ11,\n"
     ]
    }
   ],
   "source": [
    "for i in range(12):\n",
    "    print(\"    input [31:0] invJ\" + str(i) + \",\")"
   ]
  },
  {
   "cell_type": "code",
   "execution_count": 17,
   "metadata": {},
   "outputs": [
    {
     "name": "stdout",
     "output_type": "stream",
     "text": [
      "mul mul0(prod0, mul_stb0, mul0a, mul0b, clk, rest);\n",
      "mul mul1(prod1, mul_stb1, mul1a, mul1b, clk, rest);\n",
      "mul mul2(prod2, mul_stb2, mul2a, mul2b, clk, rest);\n",
      "mul mul3(prod3, mul_stb3, mul3a, mul3b, clk, rest);\n",
      "mul mul4(prod4, mul_stb4, mul4a, mul4b, clk, rest);\n",
      "mul mul5(prod5, mul_stb5, mul5a, mul5b, clk, rest);\n",
      "mul mul6(prod6, mul_stb6, mul6a, mul6b, clk, rest);\n"
     ]
    }
   ],
   "source": [
    "for i in range(7):\n",
    "    print(\"mul mul\"+str(i)+\"(prod\"+str(i)+\", mul_stb\"+str(i)+\", mul\"+str(i)+\"a, mul\"+str(i)+\"b, clk, rest);\")"
   ]
  },
  {
   "cell_type": "code",
   "execution_count": 19,
   "metadata": {},
   "outputs": [
    {
     "name": "stdout",
     "output_type": "stream",
     "text": [
      "reg [31:0] mul0a;\n",
      "reg [31:0] mul0b;\n",
      "wire [31:0] prod0;\n",
      "wire mul_stb0;\n",
      "\n",
      "reg [31:0] mul1a;\n",
      "reg [31:0] mul1b;\n",
      "wire [31:0] prod1;\n",
      "wire mul_stb1;\n",
      "\n",
      "reg [31:0] mul2a;\n",
      "reg [31:0] mul2b;\n",
      "wire [31:0] prod2;\n",
      "wire mul_stb2;\n",
      "\n",
      "reg [31:0] mul3a;\n",
      "reg [31:0] mul3b;\n",
      "wire [31:0] prod3;\n",
      "wire mul_stb3;\n",
      "\n",
      "reg [31:0] mul4a;\n",
      "reg [31:0] mul4b;\n",
      "wire [31:0] prod4;\n",
      "wire mul_stb4;\n",
      "\n",
      "reg [31:0] mul5a;\n",
      "reg [31:0] mul5b;\n",
      "wire [31:0] prod5;\n",
      "wire mul_stb5;\n",
      "\n",
      "reg [31:0] mul6a;\n",
      "reg [31:0] mul6b;\n",
      "wire [31:0] prod6;\n",
      "wire mul_stb6;\n",
      "\n"
     ]
    }
   ],
   "source": [
    "for i in range(7):\n",
    "    print(\"reg [31:0] mul\"+str(i)+\"a;\")\n",
    "    print(\"reg [31:0] mul\"+str(i)+\"b;\")\n",
    "    print(\"wire [31:0] prod\"+str(i)+\";\")\n",
    "    print(\"wire mul_stb\"+str(i)+\";\")\n",
    "    print()"
   ]
  },
  {
   "cell_type": "code",
   "execution_count": 3,
   "metadata": {},
   "outputs": [
    {
     "name": "stdout",
     "output_type": "stream",
     "text": [
      ".invJout0(invJout0),\n",
      ".invJout1(invJout1),\n",
      ".invJout2(invJout2),\n",
      ".invJout3(invJout3),\n",
      ".invJout4(invJout4),\n",
      ".invJout5(invJout5),\n",
      ".invJout6(invJout6),\n",
      ".invJout7(invJout7),\n",
      ".invJout8(invJout8),\n",
      ".invJout9(invJout9),\n",
      ".invJout10(invJout10),\n",
      ".invJout11(invJout11),\n"
     ]
    }
   ],
   "source": [
    "for i in range(12):\n",
    "    print(\".invJout\"+str(i)+\"(invJout\"+str(i)+\"),\")"
   ]
  },
  {
   "cell_type": "code",
   "execution_count": null,
   "metadata": {},
   "outputs": [],
   "source": []
  },
  {
   "cell_type": "code",
   "execution_count": 19,
   "metadata": {},
   "outputs": [
    {
     "name": "stdout",
     "output_type": "stream",
     "text": [
      "invJ[0], invJ[1], invJ[2], invJ[3], invJ[4], invJ[5], invJ[6], invJ[7], invJ[8], invJ[9], invJ[10], invJ[11], "
     ]
    }
   ],
   "source": [
    "for i in range(12):\n",
    "    print(\"invJ[\" + str(i) + \"], \", end=\"\")"
   ]
  },
  {
   "cell_type": "code",
   "execution_count": 67,
   "metadata": {},
   "outputs": [
    {
     "name": "stdout",
     "output_type": "stream",
     "text": [
      "32'b0, 32'b0, 32'b0, 32'b0, 32'b0, 32'b0, 32'b0, 32'b0, 32'b0, 32'b0, 32'b0, 32'b0, 32'b0, 32'b0, 32'b0, 32'b0, 32'b0, 32'b0, 32'b0, 32'b0, 32'b0, 32'b0, 32'b0, 32'b0, 32'b0, 32'b0, 32'b0, 32'b0, 32'b0, 32'b0, 32'b0, 32'b0, 32'b0, 32'b0, 32'b0, 32'b0, 32'b0, 32'b0, 32'b0, 32'b0, 32'b0, 32'b0, 32'b0, 32'b0, 32'b0, 32'b0, 32'b0, 32'b0, 32'b0, "
     ]
    }
   ],
   "source": [
    "for i in range(12):\n",
    "    print(\"32'b0, \", end=\"\")"
   ]
  },
  {
   "cell_type": "code",
   "execution_count": 16,
   "metadata": {},
   "outputs": [
    {
     "name": "stdout",
     "output_type": "stream",
     "text": [
      "invJ0, invJ1, invJ2, invJ3, invJ4, invJ5, invJ6, invJ7, invJ8, invJ9, invJ10, invJ11, "
     ]
    }
   ],
   "source": [
    "for i in range (12):\n",
    "    print(\"invJ\"+str(i)+\", \", end=\"\")"
   ]
  },
  {
   "cell_type": "code",
   "execution_count": 26,
   "metadata": {},
   "outputs": [
    {
     "name": "stdout",
     "output_type": "stream",
     "text": [
      "adder adder10(nex_invJ0, stb[24], invJ0, adjust_matrix[0], 1'b1, clk, rst);\n",
      "adder adder11(nex_invJ1, stb[25], invJ1, adjust_matrix[1], 1'b1, clk, rst);\n",
      "adder adder12(nex_invJ2, stb[26], invJ2, adjust_matrix[2], 1'b1, clk, rst);\n",
      "adder adder13(nex_invJ3, stb[27], invJ3, adjust_matrix[3], 1'b1, clk, rst);\n",
      "adder adder14(nex_invJ4, stb[28], invJ4, adjust_matrix[4], 1'b1, clk, rst);\n",
      "adder adder15(nex_invJ5, stb[29], invJ5, adjust_matrix[5], 1'b1, clk, rst);\n",
      "adder adder16(nex_invJ6, stb[30], invJ6, adjust_matrix[6], 1'b1, clk, rst);\n",
      "adder adder17(nex_invJ7, stb[31], invJ7, adjust_matrix[7], 1'b1, clk, rst);\n",
      "adder adder18(nex_invJ8, stb[32], invJ8, adjust_matrix[8], 1'b1, clk, rst);\n",
      "adder adder19(nex_invJ9, stb[33], invJ9, adjust_matrix[9], 1'b1, clk, rst);\n",
      "adder adder20(nex_invJ10, stb[34], invJ10, adjust_matrix[10], 1'b1, clk, rst);\n",
      "adder adder21(nex_invJ11, stb[35], invJ11, adjust_matrix[11], 1'b1, clk, rst);\n"
     ]
    }
   ],
   "source": [
    "for i in range(12):\n",
    "    print(\"adder adder\"+str(i+10)+\"(nex_invJ\"+str(i)+\", stb[\"+str(i+24)+\"], invJ\"+str(i)+\", adjust_matrix[\"+str(i)+\"], 1'b1, clk, rst);\")"
   ]
  },
  {
   "cell_type": "code",
   "execution_count": 21,
   "metadata": {},
   "outputs": [
    {
     "name": "stdout",
     "output_type": "stream",
     "text": [
      "invJ[0] <= next_invJ[0];\n",
      "invJ[1] <= next_invJ[1];\n",
      "invJ[2] <= next_invJ[2];\n",
      "invJ[3] <= next_invJ[3];\n",
      "invJ[4] <= next_invJ[4];\n",
      "invJ[5] <= next_invJ[5];\n",
      "invJ[6] <= next_invJ[6];\n",
      "invJ[7] <= next_invJ[7];\n",
      "invJ[8] <= next_invJ[8];\n",
      "invJ[9] <= next_invJ[9];\n",
      "invJ[10] <= next_invJ[10];\n",
      "invJ[11] <= next_invJ[11];\n"
     ]
    }
   ],
   "source": [
    "for i in range (12):\n",
    "    print(\"invJ[\"+str(i)+\"] <= next_invJ[\"+str(i)+\"];\")"
   ]
  },
  {
   "cell_type": "code",
   "execution_count": 1,
   "metadata": {},
   "outputs": [
    {
     "name": "stdout",
     "output_type": "stream",
     "text": [
      "assign invJout0 = invJ[0];\n",
      "assign invJout1 = invJ[1];\n",
      "assign invJout2 = invJ[2];\n",
      "assign invJout3 = invJ[3];\n",
      "assign invJout4 = invJ[4];\n",
      "assign invJout5 = invJ[5];\n",
      "assign invJout6 = invJ[6];\n",
      "assign invJout7 = invJ[7];\n",
      "assign invJout8 = invJ[8];\n",
      "assign invJout9 = invJ[9];\n",
      "assign invJout10 = invJ[10];\n",
      "assign invJout11 = invJ[11];\n"
     ]
    }
   ],
   "source": [
    "for i in range (12):\n",
    "    print(\"assign invJout\"+str(i)+\" = invJ[\"+str(i)+\"];\")"
   ]
  },
  {
   "cell_type": "code",
   "execution_count": 2,
   "metadata": {},
   "outputs": [
    {
     "name": "stdout",
     "output_type": "stream",
     "text": [
      "output [31:0] invJout0,\n",
      "output [31:0] invJout1,\n",
      "output [31:0] invJout2,\n",
      "output [31:0] invJout3,\n",
      "output [31:0] invJout4,\n",
      "output [31:0] invJout5,\n",
      "output [31:0] invJout6,\n",
      "output [31:0] invJout7,\n",
      "output [31:0] invJout8,\n",
      "output [31:0] invJout9,\n",
      "output [31:0] invJout10,\n",
      "output [31:0] invJout11,\n"
     ]
    }
   ],
   "source": [
    "for i in range (12):\n",
    "    print(\"output [31:0] invJout\"+str(i)+\",\")"
   ]
  },
  {
   "cell_type": "code",
   "execution_count": null,
   "metadata": {},
   "outputs": [],
   "source": []
  }
 ],
 "metadata": {
  "kernelspec": {
   "display_name": "Python 3",
   "language": "python",
   "name": "python3"
  },
  "language_info": {
   "codemirror_mode": {
    "name": "ipython",
    "version": 3
   },
   "file_extension": ".py",
   "mimetype": "text/x-python",
   "name": "python",
   "nbconvert_exporter": "python",
   "pygments_lexer": "ipython3",
   "version": "3.8.5"
  }
 },
 "nbformat": 4,
 "nbformat_minor": 4
}
